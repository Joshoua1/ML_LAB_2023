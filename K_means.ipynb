{
 "cells": [
  {
   "cell_type": "markdown",
   "metadata": {},
   "source": [
    "# K-Means Clustering Algorithm\n",
    "\n",
    "K-means is a clustering algorithm that partitions data into k clusters by iteratively assigning points to the nearest cluster center and updating those centers.\n",
    "\n",
    "## Algorithm Steps\n",
    "\n",
    "### Step 1: Initialize\n",
    "Choose k (number of clusters) and place k centroids randomly in the data space.\n",
    "\n",
    "```\n",
    "Data points:           Initial centroids:\n",
    "  •     •                 ★ (C1)\n",
    "    •       •\n",
    "•           •           ★ (C2)\n",
    "      •   •\n",
    "    •                   ★ (C3)\n",
    "```\n",
    "\n",
    "### Step 2: Assignment\n",
    "Assign each data point to the nearest centroid based on Euclidean distance.\n",
    "\n",
    "```\n",
    "Cluster assignments:\n",
    "  •(1)     •(2)           ★ C1\n",
    "    •(1)       •(2)\n",
    "•(1)           •(2)       ★ C2\n",
    "      •(3)   •(2)\n",
    "    •(3)                 ★ C3\n",
    "\n",
    "Legend: •(1) = assigned to C1, •(2) = assigned to C2, •(3) = assigned to C3\n",
    "```\n",
    "\n",
    "### Step 3: Update Centroids\n",
    "Move each centroid to the mean position of all points assigned to it.\n",
    "\n",
    "```\n",
    "New centroid positions:\n",
    "  •     •                 \n",
    "    •       •             ★ C1 (moved)\n",
    "•           •           \n",
    "      •   •               ★ C2 (moved)\n",
    "    •                     \n",
    "                          ★ C3 (moved)\n",
    "```\n",
    "\n",
    "### Step 4: Repeat\n",
    "Continue steps 2-3 until centroids stop moving significantly.\n",
    "\n",
    "```\n",
    "Final clustering:\n",
    "Cluster 1: •••           ★ C1\n",
    "           •\n",
    "\n",
    "Cluster 2:     •••       ★ C2\n",
    "               ••\n",
    "\n",
    "Cluster 3:       •       ★ C3\n",
    "                 •\n",
    "```\n",
    "\n",
    "## Mathematical Formulation\n",
    "\n",
    "The algorithm minimizes the within-cluster sum of squares (WCSS):\n",
    "\n",
    "```\n",
    "J = Σ(i=1 to k) Σ(x∈Ci) ||x - μi||²\n",
    "\n",
    "Where:\n",
    "- k = number of clusters\n",
    "- Ci = set of points in cluster i\n",
    "- μi = centroid of cluster i\n",
    "- x = data point\n",
    "```\n",
    "\n",
    "## Convergence Example\n",
    "\n",
    "```\n",
    "Iteration 1:    Iteration 2:    Iteration 3:    Final:\n",
    "   •  •           •  •           •  •           •  •\n",
    " ★    •         ★    •           ★  •             ★•\n",
    "   •              •              •              •\n",
    "     ★              ★              ★              ★\n",
    " •    •         •    •         •    •         •    •\n",
    "   ★              ★              ★              ★\n",
    "```\n",
    "\n",
    "The algorithm converges when centroids no longer move between iterations or move less than a specified threshold.\n",
    "\n",
    "## Key Characteristics\n",
    "\n",
    "- **Time Complexity**: O(n × k × i × d) where n=data points, k=clusters, i=iterations, d=dimensions\n",
    "- **Space Complexity**: O(n × d)\n",
    "- **Assumes**: Spherical clusters, similar cluster sizes, similar densities\n",
    "- **Sensitive to**: Initial centroid placement, outliers, non-spherical cluster shapes\n",
    "\n",
    "## Advantages\n",
    "\n",
    "- Simple and easy to implement\n",
    "- Computationally efficient for large datasets\n",
    "- Works well with spherical clusters\n",
    "- Guaranteed to converge\n",
    "\n",
    "## Disadvantages\n",
    "\n",
    "- Requires pre-specifying k (number of clusters)\n",
    "- Sensitive to initial centroid placement\n",
    "- May converge to local optima\n",
    "- Struggles with non-spherical clusters\n",
    "- Sensitive to outliers\n",
    "\n",
    "## Practical Tips\n",
    "\n",
    "- Use multiple random initializations and choose the best result\n",
    "- Consider using k-means++ initialization for better starting centroids\n",
    "- Apply methods like the elbow method or silhouette analysis to determine optimal k\n",
    "- Standardize features if they have different scales\n",
    "\n",
    "The algorithm is guaranteed to converge but may reach a local optimum rather than the global optimum, which is why multiple runs with different initializations are often used."
   ]
  },
  {
   "cell_type": "code",
   "execution_count": 1,
   "metadata": {},
   "outputs": [],
   "source": [
    "# The code is importing several Python libraries: pandas, numpy, matplotlib, and seaborn.\n",
    "\n",
    "import pandas as pd\n",
    "import numpy as np \n",
    "import matplotlib.pyplot as plt\n",
    "import seaborn as sns"
   ]
  },
  {
   "cell_type": "code",
   "execution_count": 2,
   "metadata": {},
   "outputs": [],
   "source": [
    "# The code `df = pd.read_csv(\"https://raw.githubusercontent.com/tirthajyoti/Machine-Learning-with-Python/master/Datasets/Mall_Customers.csv\")` is reading a CSV file from the given URL and storing it in a variable called `df`. The `pd.read_csv()` function is a method from the pandas library that is used to read CSV files and create a DataFrame object in Python.\n",
    "\n",
    "df = pd.read_csv(\"https://raw.githubusercontent.com/tirthajyoti/Machine-Learning-with-Python/master/Datasets/Mall_Customers.csv\")"
   ]
  },
  {
   "cell_type": "code",
   "execution_count": 3,
   "metadata": {},
   "outputs": [
    {
     "data": {
      "application/vnd.microsoft.datawrangler.viewer.v0+json": {
       "columns": [
        {
         "name": "index",
         "rawType": "int64",
         "type": "integer"
        },
        {
         "name": "CustomerID",
         "rawType": "int64",
         "type": "integer"
        },
        {
         "name": "Gender",
         "rawType": "object",
         "type": "string"
        },
        {
         "name": "Age",
         "rawType": "int64",
         "type": "integer"
        },
        {
         "name": "Annual Income (k$)",
         "rawType": "int64",
         "type": "integer"
        },
        {
         "name": "Spending Score (1-100)",
         "rawType": "int64",
         "type": "integer"
        }
       ],
       "ref": "7f215217-882f-45d3-82b6-aaa93d254216",
       "rows": [
        [
         "0",
         "1",
         "Male",
         "19",
         "15",
         "39"
        ],
        [
         "1",
         "2",
         "Male",
         "21",
         "15",
         "81"
        ],
        [
         "2",
         "3",
         "Female",
         "20",
         "16",
         "6"
        ],
        [
         "3",
         "4",
         "Female",
         "23",
         "16",
         "77"
        ],
        [
         "4",
         "5",
         "Female",
         "31",
         "17",
         "40"
        ],
        [
         "5",
         "6",
         "Female",
         "22",
         "17",
         "76"
        ],
        [
         "6",
         "7",
         "Female",
         "35",
         "18",
         "6"
        ],
        [
         "7",
         "8",
         "Female",
         "23",
         "18",
         "94"
        ],
        [
         "8",
         "9",
         "Male",
         "64",
         "19",
         "3"
        ],
        [
         "9",
         "10",
         "Female",
         "30",
         "19",
         "72"
        ],
        [
         "10",
         "11",
         "Male",
         "67",
         "19",
         "14"
        ],
        [
         "11",
         "12",
         "Female",
         "35",
         "19",
         "99"
        ],
        [
         "12",
         "13",
         "Female",
         "58",
         "20",
         "15"
        ],
        [
         "13",
         "14",
         "Female",
         "24",
         "20",
         "77"
        ],
        [
         "14",
         "15",
         "Male",
         "37",
         "20",
         "13"
        ],
        [
         "15",
         "16",
         "Male",
         "22",
         "20",
         "79"
        ],
        [
         "16",
         "17",
         "Female",
         "35",
         "21",
         "35"
        ],
        [
         "17",
         "18",
         "Male",
         "20",
         "21",
         "66"
        ],
        [
         "18",
         "19",
         "Male",
         "52",
         "23",
         "29"
        ],
        [
         "19",
         "20",
         "Female",
         "35",
         "23",
         "98"
        ],
        [
         "20",
         "21",
         "Male",
         "35",
         "24",
         "35"
        ],
        [
         "21",
         "22",
         "Male",
         "25",
         "24",
         "73"
        ],
        [
         "22",
         "23",
         "Female",
         "46",
         "25",
         "5"
        ],
        [
         "23",
         "24",
         "Male",
         "31",
         "25",
         "73"
        ],
        [
         "24",
         "25",
         "Female",
         "54",
         "28",
         "14"
        ],
        [
         "25",
         "26",
         "Male",
         "29",
         "28",
         "82"
        ],
        [
         "26",
         "27",
         "Female",
         "45",
         "28",
         "32"
        ],
        [
         "27",
         "28",
         "Male",
         "35",
         "28",
         "61"
        ],
        [
         "28",
         "29",
         "Female",
         "40",
         "29",
         "31"
        ],
        [
         "29",
         "30",
         "Female",
         "23",
         "29",
         "87"
        ],
        [
         "30",
         "31",
         "Male",
         "60",
         "30",
         "4"
        ],
        [
         "31",
         "32",
         "Female",
         "21",
         "30",
         "73"
        ],
        [
         "32",
         "33",
         "Male",
         "53",
         "33",
         "4"
        ],
        [
         "33",
         "34",
         "Male",
         "18",
         "33",
         "92"
        ],
        [
         "34",
         "35",
         "Female",
         "49",
         "33",
         "14"
        ],
        [
         "35",
         "36",
         "Female",
         "21",
         "33",
         "81"
        ],
        [
         "36",
         "37",
         "Female",
         "42",
         "34",
         "17"
        ],
        [
         "37",
         "38",
         "Female",
         "30",
         "34",
         "73"
        ],
        [
         "38",
         "39",
         "Female",
         "36",
         "37",
         "26"
        ],
        [
         "39",
         "40",
         "Female",
         "20",
         "37",
         "75"
        ],
        [
         "40",
         "41",
         "Female",
         "65",
         "38",
         "35"
        ],
        [
         "41",
         "42",
         "Male",
         "24",
         "38",
         "92"
        ],
        [
         "42",
         "43",
         "Male",
         "48",
         "39",
         "36"
        ],
        [
         "43",
         "44",
         "Female",
         "31",
         "39",
         "61"
        ],
        [
         "44",
         "45",
         "Female",
         "49",
         "39",
         "28"
        ],
        [
         "45",
         "46",
         "Female",
         "24",
         "39",
         "65"
        ],
        [
         "46",
         "47",
         "Female",
         "50",
         "40",
         "55"
        ],
        [
         "47",
         "48",
         "Female",
         "27",
         "40",
         "47"
        ],
        [
         "48",
         "49",
         "Female",
         "29",
         "40",
         "42"
        ],
        [
         "49",
         "50",
         "Female",
         "31",
         "40",
         "42"
        ]
       ],
       "shape": {
        "columns": 5,
        "rows": 200
       }
      },
      "text/html": [
       "<div>\n",
       "<style scoped>\n",
       "    .dataframe tbody tr th:only-of-type {\n",
       "        vertical-align: middle;\n",
       "    }\n",
       "\n",
       "    .dataframe tbody tr th {\n",
       "        vertical-align: top;\n",
       "    }\n",
       "\n",
       "    .dataframe thead th {\n",
       "        text-align: right;\n",
       "    }\n",
       "</style>\n",
       "<table border=\"1\" class=\"dataframe\">\n",
       "  <thead>\n",
       "    <tr style=\"text-align: right;\">\n",
       "      <th></th>\n",
       "      <th>CustomerID</th>\n",
       "      <th>Gender</th>\n",
       "      <th>Age</th>\n",
       "      <th>Annual Income (k$)</th>\n",
       "      <th>Spending Score (1-100)</th>\n",
       "    </tr>\n",
       "  </thead>\n",
       "  <tbody>\n",
       "    <tr>\n",
       "      <th>0</th>\n",
       "      <td>1</td>\n",
       "      <td>Male</td>\n",
       "      <td>19</td>\n",
       "      <td>15</td>\n",
       "      <td>39</td>\n",
       "    </tr>\n",
       "    <tr>\n",
       "      <th>1</th>\n",
       "      <td>2</td>\n",
       "      <td>Male</td>\n",
       "      <td>21</td>\n",
       "      <td>15</td>\n",
       "      <td>81</td>\n",
       "    </tr>\n",
       "    <tr>\n",
       "      <th>2</th>\n",
       "      <td>3</td>\n",
       "      <td>Female</td>\n",
       "      <td>20</td>\n",
       "      <td>16</td>\n",
       "      <td>6</td>\n",
       "    </tr>\n",
       "    <tr>\n",
       "      <th>3</th>\n",
       "      <td>4</td>\n",
       "      <td>Female</td>\n",
       "      <td>23</td>\n",
       "      <td>16</td>\n",
       "      <td>77</td>\n",
       "    </tr>\n",
       "    <tr>\n",
       "      <th>4</th>\n",
       "      <td>5</td>\n",
       "      <td>Female</td>\n",
       "      <td>31</td>\n",
       "      <td>17</td>\n",
       "      <td>40</td>\n",
       "    </tr>\n",
       "    <tr>\n",
       "      <th>...</th>\n",
       "      <td>...</td>\n",
       "      <td>...</td>\n",
       "      <td>...</td>\n",
       "      <td>...</td>\n",
       "      <td>...</td>\n",
       "    </tr>\n",
       "    <tr>\n",
       "      <th>195</th>\n",
       "      <td>196</td>\n",
       "      <td>Female</td>\n",
       "      <td>35</td>\n",
       "      <td>120</td>\n",
       "      <td>79</td>\n",
       "    </tr>\n",
       "    <tr>\n",
       "      <th>196</th>\n",
       "      <td>197</td>\n",
       "      <td>Female</td>\n",
       "      <td>45</td>\n",
       "      <td>126</td>\n",
       "      <td>28</td>\n",
       "    </tr>\n",
       "    <tr>\n",
       "      <th>197</th>\n",
       "      <td>198</td>\n",
       "      <td>Male</td>\n",
       "      <td>32</td>\n",
       "      <td>126</td>\n",
       "      <td>74</td>\n",
       "    </tr>\n",
       "    <tr>\n",
       "      <th>198</th>\n",
       "      <td>199</td>\n",
       "      <td>Male</td>\n",
       "      <td>32</td>\n",
       "      <td>137</td>\n",
       "      <td>18</td>\n",
       "    </tr>\n",
       "    <tr>\n",
       "      <th>199</th>\n",
       "      <td>200</td>\n",
       "      <td>Male</td>\n",
       "      <td>30</td>\n",
       "      <td>137</td>\n",
       "      <td>83</td>\n",
       "    </tr>\n",
       "  </tbody>\n",
       "</table>\n",
       "<p>200 rows × 5 columns</p>\n",
       "</div>"
      ],
      "text/plain": [
       "     CustomerID  Gender  Age  Annual Income (k$)  Spending Score (1-100)\n",
       "0             1    Male   19                  15                      39\n",
       "1             2    Male   21                  15                      81\n",
       "2             3  Female   20                  16                       6\n",
       "3             4  Female   23                  16                      77\n",
       "4             5  Female   31                  17                      40\n",
       "..          ...     ...  ...                 ...                     ...\n",
       "195         196  Female   35                 120                      79\n",
       "196         197  Female   45                 126                      28\n",
       "197         198    Male   32                 126                      74\n",
       "198         199    Male   32                 137                      18\n",
       "199         200    Male   30                 137                      83\n",
       "\n",
       "[200 rows x 5 columns]"
      ]
     },
     "execution_count": 3,
     "metadata": {},
     "output_type": "execute_result"
    }
   ],
   "source": [
    "# The `df` command is used to display information about the file system usage on a Linux or Unix system. It shows the amount of disk space used, available, and the percentage of usage for each mounted file system.\n",
    "\n",
    "df"
   ]
  },
  {
   "cell_type": "code",
   "execution_count": 4,
   "metadata": {},
   "outputs": [],
   "source": [
    "# The code `x = df.iloc[:, [3,4]]` is selecting specific columns from a DataFrame `df` and assigning them to a new variable `x`.\n",
    "\n",
    "x = df.iloc[:, [3,4]]"
   ]
  },
  {
   "cell_type": "code",
   "execution_count": 5,
   "metadata": {},
   "outputs": [
    {
     "data": {
      "application/vnd.microsoft.datawrangler.viewer.v0+json": {
       "columns": [
        {
         "name": "index",
         "rawType": "int64",
         "type": "integer"
        },
        {
         "name": "Annual Income (k$)",
         "rawType": "int64",
         "type": "integer"
        },
        {
         "name": "Spending Score (1-100)",
         "rawType": "int64",
         "type": "integer"
        }
       ],
       "ref": "4c09f7d5-4b83-40ab-a5b6-964b5a994bd0",
       "rows": [
        [
         "0",
         "15",
         "39"
        ],
        [
         "1",
         "15",
         "81"
        ],
        [
         "2",
         "16",
         "6"
        ],
        [
         "3",
         "16",
         "77"
        ],
        [
         "4",
         "17",
         "40"
        ],
        [
         "5",
         "17",
         "76"
        ],
        [
         "6",
         "18",
         "6"
        ],
        [
         "7",
         "18",
         "94"
        ],
        [
         "8",
         "19",
         "3"
        ],
        [
         "9",
         "19",
         "72"
        ],
        [
         "10",
         "19",
         "14"
        ],
        [
         "11",
         "19",
         "99"
        ],
        [
         "12",
         "20",
         "15"
        ],
        [
         "13",
         "20",
         "77"
        ],
        [
         "14",
         "20",
         "13"
        ],
        [
         "15",
         "20",
         "79"
        ],
        [
         "16",
         "21",
         "35"
        ],
        [
         "17",
         "21",
         "66"
        ],
        [
         "18",
         "23",
         "29"
        ],
        [
         "19",
         "23",
         "98"
        ],
        [
         "20",
         "24",
         "35"
        ],
        [
         "21",
         "24",
         "73"
        ],
        [
         "22",
         "25",
         "5"
        ],
        [
         "23",
         "25",
         "73"
        ],
        [
         "24",
         "28",
         "14"
        ],
        [
         "25",
         "28",
         "82"
        ],
        [
         "26",
         "28",
         "32"
        ],
        [
         "27",
         "28",
         "61"
        ],
        [
         "28",
         "29",
         "31"
        ],
        [
         "29",
         "29",
         "87"
        ],
        [
         "30",
         "30",
         "4"
        ],
        [
         "31",
         "30",
         "73"
        ],
        [
         "32",
         "33",
         "4"
        ],
        [
         "33",
         "33",
         "92"
        ],
        [
         "34",
         "33",
         "14"
        ],
        [
         "35",
         "33",
         "81"
        ],
        [
         "36",
         "34",
         "17"
        ],
        [
         "37",
         "34",
         "73"
        ],
        [
         "38",
         "37",
         "26"
        ],
        [
         "39",
         "37",
         "75"
        ],
        [
         "40",
         "38",
         "35"
        ],
        [
         "41",
         "38",
         "92"
        ],
        [
         "42",
         "39",
         "36"
        ],
        [
         "43",
         "39",
         "61"
        ],
        [
         "44",
         "39",
         "28"
        ],
        [
         "45",
         "39",
         "65"
        ],
        [
         "46",
         "40",
         "55"
        ],
        [
         "47",
         "40",
         "47"
        ],
        [
         "48",
         "40",
         "42"
        ],
        [
         "49",
         "40",
         "42"
        ]
       ],
       "shape": {
        "columns": 2,
        "rows": 200
       }
      },
      "text/html": [
       "<div>\n",
       "<style scoped>\n",
       "    .dataframe tbody tr th:only-of-type {\n",
       "        vertical-align: middle;\n",
       "    }\n",
       "\n",
       "    .dataframe tbody tr th {\n",
       "        vertical-align: top;\n",
       "    }\n",
       "\n",
       "    .dataframe thead th {\n",
       "        text-align: right;\n",
       "    }\n",
       "</style>\n",
       "<table border=\"1\" class=\"dataframe\">\n",
       "  <thead>\n",
       "    <tr style=\"text-align: right;\">\n",
       "      <th></th>\n",
       "      <th>Annual Income (k$)</th>\n",
       "      <th>Spending Score (1-100)</th>\n",
       "    </tr>\n",
       "  </thead>\n",
       "  <tbody>\n",
       "    <tr>\n",
       "      <th>0</th>\n",
       "      <td>15</td>\n",
       "      <td>39</td>\n",
       "    </tr>\n",
       "    <tr>\n",
       "      <th>1</th>\n",
       "      <td>15</td>\n",
       "      <td>81</td>\n",
       "    </tr>\n",
       "    <tr>\n",
       "      <th>2</th>\n",
       "      <td>16</td>\n",
       "      <td>6</td>\n",
       "    </tr>\n",
       "    <tr>\n",
       "      <th>3</th>\n",
       "      <td>16</td>\n",
       "      <td>77</td>\n",
       "    </tr>\n",
       "    <tr>\n",
       "      <th>4</th>\n",
       "      <td>17</td>\n",
       "      <td>40</td>\n",
       "    </tr>\n",
       "    <tr>\n",
       "      <th>...</th>\n",
       "      <td>...</td>\n",
       "      <td>...</td>\n",
       "    </tr>\n",
       "    <tr>\n",
       "      <th>195</th>\n",
       "      <td>120</td>\n",
       "      <td>79</td>\n",
       "    </tr>\n",
       "    <tr>\n",
       "      <th>196</th>\n",
       "      <td>126</td>\n",
       "      <td>28</td>\n",
       "    </tr>\n",
       "    <tr>\n",
       "      <th>197</th>\n",
       "      <td>126</td>\n",
       "      <td>74</td>\n",
       "    </tr>\n",
       "    <tr>\n",
       "      <th>198</th>\n",
       "      <td>137</td>\n",
       "      <td>18</td>\n",
       "    </tr>\n",
       "    <tr>\n",
       "      <th>199</th>\n",
       "      <td>137</td>\n",
       "      <td>83</td>\n",
       "    </tr>\n",
       "  </tbody>\n",
       "</table>\n",
       "<p>200 rows × 2 columns</p>\n",
       "</div>"
      ],
      "text/plain": [
       "     Annual Income (k$)  Spending Score (1-100)\n",
       "0                    15                      39\n",
       "1                    15                      81\n",
       "2                    16                       6\n",
       "3                    16                      77\n",
       "4                    17                      40\n",
       "..                  ...                     ...\n",
       "195                 120                      79\n",
       "196                 126                      28\n",
       "197                 126                      74\n",
       "198                 137                      18\n",
       "199                 137                      83\n",
       "\n",
       "[200 rows x 2 columns]"
      ]
     },
     "execution_count": 5,
     "metadata": {},
     "output_type": "execute_result"
    }
   ],
   "source": [
    "# `x` is a variable that has been declared, but its purpose or value is not specified in the given code snippet.\n",
    "\n",
    "x"
   ]
  },
  {
   "cell_type": "code",
   "execution_count": 6,
   "metadata": {},
   "outputs": [],
   "source": [
    "# `from sklearn.cluster import KMeans` is importing the `KMeans` class from the `cluster` module of the `sklearn` library. This allows you to use the K-means clustering algorithm for clustering data.\n",
    "\n",
    "from sklearn.cluster import KMeans"
   ]
  },
  {
   "cell_type": "code",
   "execution_count": 7,
   "metadata": {},
   "outputs": [],
   "source": [
    "# The code is performing a loop from 1 to 10 (inclusive) and for each iteration, it is creating a KMeans object with a specific number of clusters (i), initializing it using the 'k-means++' method, and fitting it to the data (x). After fitting, it calculates the within-cluster sum of squares (WCSS) using the inertia_ attribute of the KMeans object and appends it to the wcss list. This process is repeated for each value of i, resulting in a list of WCSS values for different numbers of clusters.\n",
    "\n",
    "wcss = []\n",
    "\n",
    "for i in range(1, 11):\n",
    "    kmeans = KMeans(n_clusters = i, init = 'k-means++', random_state = 42)\n",
    "    kmeans.fit(x)\n",
    "    wcss.append(kmeans.inertia_)"
   ]
  },
  {
   "cell_type": "code",
   "execution_count": 8,
   "metadata": {},
   "outputs": [
    {
     "data": {
      "image/png": "[encoded data removed]",
      "text/plain": [
       "<Figure size 640x480 with 1 Axes>"
      ]
     },
     "metadata": {},
     "output_type": "display_data"
    }
   ],
   "source": [
    "# The code is plotting a line graph using the `plt.plot()` function from the matplotlib library.\n",
    "\n",
    "plt.plot(range(1,11), wcss)\n",
    "plt.xlabel('number of clusters')\n",
    "plt.ylabel('wcss')\n",
    "plt.show()"
   ]
  },
  {
   "cell_type": "code",
   "execution_count": 9,
   "metadata": {},
   "outputs": [],
   "source": [
    "# The code is performing k-means clustering on the data `x`.\n",
    "\n",
    "kmeans = KMeans(n_clusters = 5, init= \"k-means++\", random_state= 42)\n",
    "y_kmeans = kmeans.fit_predict(x)"
   ]
  },
  {
   "cell_type": "code",
   "execution_count": 10,
   "metadata": {},
   "outputs": [
    {
     "data": {
      "text/plain": [
       "array([4, 2, 4, 2, 4, 2, 4, 2, 4, 2, 4, 2, 4, 2, 4, 2, 4, 2, 4, 2, 4, 2,\n",
       "       4, 2, 4, 2, 4, 2, 4, 2, 4, 2, 4, 2, 4, 2, 4, 2, 4, 2, 4, 2, 4, 0,\n",
       "       4, 2, 0, 0, 0, 0, 0, 0, 0, 0, 0, 0, 0, 0, 0, 0, 0, 0, 0, 0, 0, 0,\n",
       "       0, 0, 0, 0, 0, 0, 0, 0, 0, 0, 0, 0, 0, 0, 0, 0, 0, 0, 0, 0, 0, 0,\n",
       "       0, 0, 0, 0, 0, 0, 0, 0, 0, 0, 0, 0, 0, 0, 0, 0, 0, 0, 0, 0, 0, 0,\n",
       "       0, 0, 0, 0, 0, 0, 0, 0, 0, 0, 0, 0, 0, 1, 3, 1, 0, 1, 3, 1, 3, 1,\n",
       "       0, 1, 3, 1, 3, 1, 3, 1, 3, 1, 0, 1, 3, 1, 3, 1, 3, 1, 3, 1, 3, 1,\n",
       "       3, 1, 3, 1, 3, 1, 3, 1, 3, 1, 3, 1, 3, 1, 3, 1, 3, 1, 3, 1, 3, 1,\n",
       "       3, 1, 3, 1, 3, 1, 3, 1, 3, 1, 3, 1, 3, 1, 3, 1, 3, 1, 3, 1, 3, 1,\n",
       "       3, 1], dtype=int32)"
      ]
     },
     "execution_count": 10,
     "metadata": {},
     "output_type": "execute_result"
    }
   ],
   "source": [
    "# `y_kmeans` is likely a variable that stores the labels or cluster assignments generated by the k-means clustering algorithm.\n",
    "\n",
    "y_kmeans"
   ]
  },
  {
   "cell_type": "code",
   "execution_count": 11,
   "metadata": {},
   "outputs": [
    {
     "data": {
      "image/png": "[encoded data removed]",
      "text/plain": [
       "<Figure size 640x480 with 1 Axes>"
      ]
     },
     "metadata": {},
     "output_type": "display_data"
    }
   ],
   "source": [
    "# The code is creating a scatter plot to visualize the clusters obtained from the k-means clustering algorithm.\n",
    "\n",
    "x_array = x.to_numpy()  \n",
    "\n",
    "plt.scatter(x_array[y_kmeans==0, 0], x_array[y_kmeans==0, 1], s=60, c='red', label='Cluster 1')\n",
    "plt.scatter(x_array[y_kmeans==1, 0], x_array[y_kmeans==1, 1], s=60, c='blue', label='Cluster 2')\n",
    "plt.scatter(x_array[y_kmeans==2, 0], x_array[y_kmeans==2, 1], s=60, c='green', label='Cluster 3')\n",
    "plt.scatter(x_array[y_kmeans==3, 0], x_array[y_kmeans==3, 1], s=60, c='violet', label='Cluster 4')\n",
    "plt.scatter(x_array[y_kmeans==4, 0], x_array[y_kmeans==4, 1], s=60, c='yellow', label='Cluster 5')\n",
    "plt.scatter(kmeans.cluster_centers_[:, 0], kmeans.cluster_centers_[:, 1], s=100, c='black', label='Centroids')\n",
    "plt.legend()\n",
    "plt.show()"
   ]
  }
 ],
 "metadata": {
  "kernelspec": {
   "display_name": "Python 3",
   "language": "python",
   "name": "python3"
  },
  "language_info": {
   "codemirror_mode": {
    "name": "ipython",
    "version": 3
   },
   "file_extension": ".py",
   "mimetype": "text/x-python",
   "name": "python",
   "nbconvert_exporter": "python",
   "pygments_lexer": "ipython3",
   "version": "3.12.10"
  },
  "orig_nbformat": 4
 },
 "nbformat": 4,
 "nbformat_minor": 2
}
